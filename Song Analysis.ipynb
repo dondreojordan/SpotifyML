{
 "cells": [
  {
   "cell_type": "markdown",
   "metadata": {},
   "source": [
    "http://docs.echonest.com.s3-website-us-east-1.amazonaws.com/_static/AnalyzeDocumentation.pdf\n",
    "http://web.media.mit.edu/~tristan/phd/dissertation/index.html"
   ]
  },
  {
   "cell_type": "code",
   "execution_count": 1,
   "metadata": {},
   "outputs": [],
   "source": [
    "import pandas as pd #Dataframe, Series\n",
    "import numpy as np\n",
    "\n",
    "from sklearn import tree\n",
    "from sklearn.tree import DecisionTreeClassifier\n",
    "from sklearn.model_selection import train_test_split\n",
    "\n",
    "from matplotlib import pyplot as plt\n",
    "import seaborn as sns\n",
    "\n",
    "import graphviz\n",
    "import pydotplus\n",
    "import io\n",
    "\n",
    "from scipy import misc\n",
    "\n",
    "from sklearn.metrics import accuracy_score\n",
    "\n",
    "import spotipy\n",
    "import spotipy.util as util\n",
    "sp = spotipy.Spotify() \n",
    "from spotipy.oauth2 import SpotifyClientCredentials "
   ]
  },
  {
   "cell_type": "code",
   "execution_count": 25,
   "metadata": {
    "scrolled": true
   },
   "outputs": [],
   "source": [
    "cid =\"0cadd882a6ab4ff485c80b8b02aa3b0c\" \n",
    "secret = \"04d0f737e18a4a92abee1da25d70766b\"\n",
    "username = \"\"\n",
    "\n",
    "client_credentials_manager = SpotifyClientCredentials(client_id=cid, client_secret=secret) \n",
    "sp = spotipy.Spotify(client_credentials_manager=client_credentials_manager)\n",
    "\n",
    "scope = 'user-library-read playlist-read-private user-read-recently-played user-read-playback-state user-modify-playback-state'\n",
    "token = util.prompt_for_user_token(username, scope)\n",
    "\n",
    "if token:\n",
    "    sp = spotipy.Spotify(auth=token)\n",
    "else:\n",
    "    print(\"Can't get token for\", username)"
   ]
  },
  {
   "cell_type": "code",
   "execution_count": 3,
   "metadata": {
    "scrolled": false
   },
   "outputs": [
    {
     "name": "stdout",
     "output_type": "stream",
     "text": [
      "165.87\n"
     ]
    }
   ],
   "source": [
    "data = []\n",
    "\n",
    "analysis = sp.audio_analysis(\"3m9eTtBtU0xxJndQRz9MOr\")\n",
    "print(analysis[\"track\"][\"tempo\"])"
   ]
  },
  {
   "cell_type": "code",
   "execution_count": 4,
   "metadata": {},
   "outputs": [],
   "source": [
    "X = []\n",
    "Y = []\n",
    "\n",
    "for segment in analysis[\"segments\"]:\n",
    "    if(segment[\"start\"] < 20):\n",
    "        X.append(segment[\"pitches\"])\n",
    "        start = segment[\"start\"]\n",
    "        end = segment[\"start\"] + segment[\"duration\"]\n",
    "        Y.append(start)"
   ]
  },
  {
   "cell_type": "code",
   "execution_count": 5,
   "metadata": {},
   "outputs": [
    {
     "data": {
      "image/png": "[encoded data removed]",
      "text/plain": [
       "<matplotlib.figure.Figure at 0x7f6f0fad5320>"
      ]
     },
     "metadata": {},
     "output_type": "display_data"
    }
   ],
   "source": [
    "import plotly.plotly as py\n",
    "import plotly.graph_objs as go\n",
    "import matplotlib as mpl\n",
    "from scipy.interpolate import interp2d\n",
    "\n",
    "pitches = [\"C\", \"C#\", \"D\", \"D#\", \"E\", \"F\", \"F#\", \"G\", \"G#\", \"A\", \"A#\", \"B\"]\n",
    "\n",
    "# Set figure width to 12 and height to 9\n",
    "#fig_size[0] = 24\n",
    "#fig_size[1] = 8\n",
    "#plt.rcParams[\"figure.figsize\"] = fig_size\n",
    "\n",
    "cMap = mpl.cm.hot\n",
    "\n",
    "plt.pcolormesh(Y, np.arange(12), np.transpose(X), cmap=cMap)\n",
    "plt.colorbar()\n",
    "plt.yticks( np.arange(12), pitches )\n",
    "plt.show()"
   ]
  },
  {
   "cell_type": "code",
   "execution_count": 27,
   "metadata": {},
   "outputs": [],
   "source": [
    "import networkx as nx\n",
    "def euc_distance(s1, s2):\n",
    "    return np.linalg.norm(s1-s2)\n",
    "\n",
    "def weighted_euc_distance(s1,s2,w):\n",
    "    q = s1-s2\n",
    "    return np.sqrt((w*q*q).sum())\n",
    "def calucate_distance(seg1, seg2):\n",
    "    pitch_dist = euc_distance(np.array(seg1[\"pitches\"]),np.array(seg2[\"pitches\"]))\n",
    "    timbre_dist = weighted_euc_distance(np.array(seg1[\"timbre\"]), np.array(seg2[\"timbre\"]),1)\n",
    "    start_loudness_dist = abs(seg1[\"loudness_start\"] - seg2[\"loudness_start\"])\n",
    "    max_loudness_dist = abs(seg1[\"loudness_max\"] - seg2[\"loudness_max\"])\n",
    "    duration_dist = abs(seg1[\"duration\"] - seg2[\"duration\"])\n",
    "    confidence_dist = abs(seg1[\"confidence\"] - seg2[\"confidence\"])\n",
    "    distance = timbre_dist + pitch_dist * 10 + start_loudness_dist + max_loudness_dist + duration_dist * 100 + confidence_dist\n",
    "    return distance\n",
    "def get_top_four_closest_segments(segment_number):\n",
    "    segment_distance = []\n",
    "    for i in range(0, len(analysis[\"segments\"])):\n",
    "        if i != segment_number:\n",
    "            distance = calucate_distance(analysis[\"segments\"][segment_number], analysis[\"segments\"][i])\n",
    "            if(distance < 80 and distance != 0):\n",
    "                segment_distance.append({\"distance\": distance, \"number\": i})\n",
    "    return sorted(segment_distance, key=lambda x: x[\"distance\"], reverse=False)[0:4]\n",
    "\n",
    "def make_graph_from_close_segments():\n",
    "    to = []\n",
    "    fromArray = []\n",
    "    for i in range(0, len(analysis[\"segments\"])):\n",
    "        closestSegments = get_top_four_closest_segments(i)\n",
    "        for segment in closestSegments:\n",
    "            to.append(segment[\"number\"])\n",
    "            fromArray.append(i)\n",
    "    df = pd.DataFrame({ 'from':fromArray, 'to':to })\n",
    "    G = nx.from_pandas_edgelist(df, \"from\", \"to\")\n",
    "    return G"
   ]
  },
  {
   "cell_type": "code",
   "execution_count": 28,
   "metadata": {},
   "outputs": [],
   "source": [
    "G = make_graph_from_close_segments()"
   ]
  },
  {
   "cell_type": "code",
   "execution_count": 31,
   "metadata": {
    "scrolled": false
   },
   "outputs": [
    {
     "name": "stdout",
     "output_type": "stream",
     "text": [
      "573 13\n",
      "25 49\n",
      "34 601\n",
      "569 62\n",
      "159 74\n",
      "321 83\n",
      "319 83\n",
      "87 230\n",
      "98 144\n",
      "104 230\n",
      "110 418\n",
      "117 242\n",
      "124 226\n",
      "125 128\n",
      "330 125\n",
      "126 321\n",
      "160 345\n",
      "353 166\n",
      "365 173\n",
      "178 399\n",
      "230 185\n",
      "188 273\n",
      "195 391\n",
      "324 195\n",
      "198 205\n",
      "429 201\n",
      "210 231\n",
      "215 237\n",
      "273 221\n",
      "347 221\n",
      "374 236\n",
      "466 237\n",
      "238 467\n",
      "240 510\n",
      "419 243\n",
      "278 247\n",
      "260 250\n",
      "307 273\n",
      "579 276\n",
      "280 281\n",
      "312 310\n",
      "318 390\n",
      "343 324\n",
      "332 487\n",
      "413 333\n",
      "341 337\n",
      "339 486\n",
      "397 341\n",
      "346 487\n",
      "349 383\n",
      "497 352\n",
      "394 353\n",
      "486 355\n",
      "414 361\n",
      "531 366\n",
      "373 466\n",
      "381 374\n",
      "477 375\n",
      "378 455\n",
      "385 431\n",
      "432 386\n",
      "442 393\n",
      "427 396\n",
      "400 406\n",
      "405 421\n",
      "456 407\n",
      "502 414\n",
      "416 430\n",
      "470 457\n",
      "459 458\n",
      "479 522\n",
      "499 480\n",
      "509 485\n",
      "485 543\n",
      "521 492\n",
      "493 531\n",
      "533 493\n",
      "539 494\n",
      "516 497\n",
      "536 497\n",
      "542 497\n",
      "520 505\n",
      "594 550\n",
      "570 600\n"
     ]
    }
   ],
   "source": [
    "import random\n",
    "jumps = []\n",
    "sourceVerticies = []\n",
    "#print(Counter(fromEdges))\n",
    "for u,v in G.edges:\n",
    "    if random.random() < .1:\n",
    "        if random.random() < .5:\n",
    "            if u not in sourceVerticies:\n",
    "                print(u, v)\n",
    "                jumps.append({\"from\": u, \"to\": v})\n",
    "                sourceVerticies.append(u)\n",
    "            else:\n",
    "                if v not in sourceVerticies:\n",
    "                    print(v, u)\n",
    "                    jumps.append({\"from\": v, \"to\": u})\n",
    "                    sourceVerticies.append(v)\n",
    "        else:\n",
    "            if v not in sourceVerticies:\n",
    "                print(v, u)\n",
    "                jumps.append({\"from\": v, \"to\": u})\n",
    "                sourceVerticies.append(v)\n",
    "            else:\n",
    "                if u not in sourceVerticies:\n",
    "                    print(u, v)\n",
    "                    jumps.append({\"from\": u, \"to\": v})\n",
    "                    sourceVerticies.append(u)\n",
    "    "
   ]
  },
  {
   "cell_type": "code",
   "execution_count": null,
   "metadata": {},
   "outputs": [],
   "source": [
    "i=0\n",
    "newlist = sorted(jumps, key=lambda k: k['from']) \n",
    "while i < len(jumps):\n",
    "    player = sp._get(\"me/player\")\n",
    "    if player[\"progress_ms\"] >= analysis[\"segments\"][newlist[i][\"from\"]][\"start\"]*1000:\n",
    "        jump_to = analysis[\"segments\"][newlist[i][\"to\"]][\"start\"]*1000\n",
    "        i=i+1\n",
    "        sp._put(\"me/player/seek?position_ms=\"+str(int(round(jump_to))))"
   ]
  },
  {
   "cell_type": "code",
   "execution_count": 42,
   "metadata": {},
   "outputs": [
    {
     "name": "stdout",
     "output_type": "stream",
     "text": [
      "{'to': 49, 'from': 25}\n"
     ]
    }
   ],
   "source": [
    "print(newlist[0])"
   ]
  },
  {
   "cell_type": "code",
   "execution_count": 36,
   "metadata": {},
   "outputs": [
    {
     "name": "stdout",
     "output_type": "stream",
     "text": [
      "7.82966\n",
      "0.16317\n",
      "76.70635\n"
     ]
    }
   ],
   "source": [
    "import time\n",
    "print(analysis[\"segments\"][25][\"start\"])\n",
    "print(analysis[\"segments\"][25][\"duration\"])\n",
    "\n",
    "print(analysis[\"segments\"][260][\"start\"])\n",
    "\n",
    "sp._put(\"me/player/seek?position_ms=2500\")\n",
    "time.sleep(0.16317)\n",
    "sp._put(\"me/player/seek?position_ms=26000\")"
   ]
  }
 ],
 "metadata": {
  "kernelspec": {
   "display_name": "Python 3",
   "language": "python",
   "name": "python3"
  },
  "language_info": {
   "codemirror_mode": {
    "name": "ipython",
    "version": 3
   },
   "file_extension": ".py",
   "mimetype": "text/x-python",
   "name": "python",
   "nbconvert_exporter": "python",
   "pygments_lexer": "ipython3",
   "version": "3.5.2"
  }
 },
 "nbformat": 4,
 "nbformat_minor": 2
}
